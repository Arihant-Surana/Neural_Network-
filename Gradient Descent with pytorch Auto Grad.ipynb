{
 "cells": [
  {
   "cell_type": "markdown",
   "metadata": {},
   "source": [
    "## Using Numpy"
   ]
  },
  {
   "cell_type": "code",
   "execution_count": 4,
   "metadata": {},
   "outputs": [
    {
     "name": "stdout",
     "output_type": "stream",
     "text": [
      "Predcition before training: f(5) = 0.000\n",
      "epoch 1:w = 1.200,loss = 30.00000000\n",
      "epoch 2:w = 1.680,loss = 4.79999924\n",
      "epoch 3:w = 1.872,loss = 0.76800019\n",
      "epoch 4:w = 1.949,loss = 0.12288000\n",
      "epoch 5:w = 1.980,loss = 0.01966083\n",
      "epoch 6:w = 1.992,loss = 0.00314570\n",
      "epoch 7:w = 1.997,loss = 0.00050332\n",
      "epoch 8:w = 1.999,loss = 0.00008053\n",
      "epoch 9:w = 1.999,loss = 0.00001288\n",
      "epoch 10:w = 2.000,loss = 0.00000206\n",
      "Prediction after training: f(5) = 9.999\n"
     ]
    }
   ],
   "source": [
    "import numpy as np \n",
    "X = np.array([1,2,3,4] ,dtype = np.float32)\n",
    "Y = np.array([2,4,6,8] ,dtype = np.float32)\n",
    "\n",
    "w =0.0\n",
    "# model prediction \n",
    "\n",
    "def forward (x):\n",
    "    return w*x\n",
    "\n",
    "# loss = Mean Squared Error\n",
    "def loss(y, y_predicted):\n",
    "    return ((y_predicted-y)**2).mean()\n",
    "\n",
    "#gradient\n",
    "# MSE = 1/N(w*x-y)**2\n",
    "# dJ/dw = 1/n (2x)(w*x - y)\n",
    "def gradient(x,y,y_predicted):\n",
    "    return np.dot(2*x, y_predicted-y).mean()\n",
    "\n",
    "print(f'Predcition before training: f(5) = {forward(5):.3f}')\n",
    "\n",
    "# Training \n",
    "learning_rate =0.01\n",
    "n_iters = 10\n",
    "\n",
    "for epoch in range(n_iters):\n",
    "    #prediciton = forward pass\n",
    "    y_pred = forward(X)\n",
    "    \n",
    "    #loss\n",
    "    l= loss(Y,y_pred)\n",
    "    # gradients \n",
    "    dw = gradient(X,Y,y_pred)\n",
    "    #update weights \n",
    "    w -= learning_rate *dw\n",
    "    \n",
    "    if epoch %1 ==0:\n",
    "        print(f'epoch {epoch+1}:w = {w:.3f},loss = {l:.8f}')\n",
    "    \n",
    "print(f'Prediction after training: f(5) = {forward(5):.3f}')"
   ]
  },
  {
   "cell_type": "markdown",
   "metadata": {},
   "source": [
    "# Using Pytorch"
   ]
  },
  {
   "cell_type": "code",
   "execution_count": 5,
   "metadata": {},
   "outputs": [],
   "source": [
    "import torch \n"
   ]
  },
  {
   "cell_type": "code",
   "execution_count": 6,
   "metadata": {},
   "outputs": [],
   "source": [
    "X = torch.tensor([1,2,3,4] ,dtype = torch.float32)\n",
    "Y = torch.tensor([2,4,6,8] ,dtype = torch.float32)"
   ]
  },
  {
   "cell_type": "code",
   "execution_count": 7,
   "metadata": {},
   "outputs": [],
   "source": [
    "w = torch.tensor(0.0, dtype = torch.float32, requires_grad = True)"
   ]
  },
  {
   "cell_type": "code",
   "execution_count": 8,
   "metadata": {},
   "outputs": [],
   "source": [
    "def forward (x):\n",
    "    return w*x\n",
    "\n",
    "# loss = Mean Squared Error\n",
    "def loss(y, y_predicted):\n",
    "    return ((y_predicted-y)**2).mean()\n"
   ]
  },
  {
   "cell_type": "code",
   "execution_count": 13,
   "metadata": {},
   "outputs": [
    {
     "name": "stdout",
     "output_type": "stream",
     "text": [
      "Predcition before training: f(5) = 0.005\n",
      "epoch 10:w = 0.004,loss = 29.88686752\n",
      "Prediction after training: f(5) = 0.020\n"
     ]
    }
   ],
   "source": [
    "print(f'Predcition before training: f(5) = {forward(5):.3f}')\n",
    "\n",
    "# Training \n",
    "learning_rate =0.01\n",
    "n_iters = 10\n",
    "\n",
    "for epoch in range(n_iters):\n",
    "    y_pred = forward(X)\n",
    "    l = loss(Y,y_pred)\n",
    "    \n",
    "    # gradients = backward \n",
    "    l.backward() #dl/dw\n",
    "    # update weights \n",
    "    \n",
    "    with torch.no_grad():\n",
    "        w-= learning_rate*dw\n",
    "        \n",
    "    w.grad.zero_()\n",
    "if epoch %1 ==0:\n",
    "        print(f'epoch {epoch+1}:w = {w:.3f},loss = {l:.8f}')\n",
    "    \n",
    "print(f'Prediction after training: f(5) = {forward(5):.3f}')\n",
    "    "
   ]
  },
  {
   "cell_type": "code",
   "execution_count": null,
   "metadata": {},
   "outputs": [],
   "source": []
  }
 ],
 "metadata": {
  "kernelspec": {
   "display_name": "Python 3",
   "language": "python",
   "name": "python3"
  },
  "language_info": {
   "codemirror_mode": {
    "name": "ipython",
    "version": 3
   },
   "file_extension": ".py",
   "mimetype": "text/x-python",
   "name": "python",
   "nbconvert_exporter": "python",
   "pygments_lexer": "ipython3",
   "version": "3.8.3"
  }
 },
 "nbformat": 4,
 "nbformat_minor": 4
}
